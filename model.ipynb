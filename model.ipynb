{
 "cells": [
  {
   "cell_type": "code",
   "execution_count": null,
   "id": "5b83c907",
   "metadata": {},
   "outputs": [
    {
     "name": "stdout",
     "output_type": "stream",
     "text": [
      "{\"name\":\"John Doe\",\"email\":\"john.doe@example.com\",\"query\":\"Hello, I need assistance with retrieving my order invoice please.\"}\n"
     ]
    }
   ],
   "source": [
    "from pydantic import BaseModel, ValidationError, EmailStr\n",
    "import json\n",
    "\n",
    "\n",
    "# Pydantic model\n",
    "class UserInput(BaseModel):\n",
    "    name: str\n",
    "    email: EmailStr\n",
    "    query: str\n",
    "    \n",
    "user_input = UserInput(name=\"John Doe\", email=\"john.doe@example.com\", query=\"Hello, I need assistance with retrieving my order invoice please.\")\n",
    "print(f\"{user_input.model_dump_json()}\")"
   ]
  },
  {
   "cell_type": "code",
   "execution_count": 15,
   "id": "f7a2381c",
   "metadata": {},
   "outputs": [
    {
     "name": "stdout",
     "output_type": "stream",
     "text": [
      "valid user input created.\n",
      "{\"name\":\"John Doe\",\"email\":\"john.doe@example.com\",\"query\":\"Hello, I need assistance with retrieving my order invoice please.\"}\n"
     ]
    },
    {
     "data": {
      "text/plain": [
       "UserInput(name='John Doe', email='john.doe@example.com', query='Hello, I need assistance with retrieving my order invoice please.')"
      ]
     },
     "execution_count": 15,
     "metadata": {},
     "output_type": "execute_result"
    }
   ],
   "source": [
    "def validate_user_input(user_input: dict):\n",
    "    try:\n",
    "        validated_input = UserInput.model_validate(user_input)\n",
    "        print(f\"valid user input created.\")\n",
    "        print(f\"{validated_input.model_dump_json()}\")\n",
    "        return validated_input\n",
    "    except ValidationError as e:\n",
    "        print(\"Validation errors:\")\n",
    "        for error in e.errors():\n",
    "            location = error['loc'][0] if error['loc'] else 'unknown'\n",
    "            print(f\"  - {location}: {error['msg']}\")\n",
    "        return None\n",
    "\n",
    "input_data = {\n",
    "    \"name\": \"John Doe\",\n",
    "    \"email\": \"john.doe@example.com\",\n",
    "    \"query\": \"Hello, I need assistance with retrieving my order invoice please.\"\n",
    "}\n",
    "\n",
    "# validate customer data\n",
    "validate_user_input(input_data)\n"
   ]
  }
 ],
 "metadata": {
  "kernelspec": {
   "display_name": "supreme-pydantic",
   "language": "python",
   "name": "python3"
  },
  "language_info": {
   "codemirror_mode": {
    "name": "ipython",
    "version": 3
   },
   "file_extension": ".py",
   "mimetype": "text/x-python",
   "name": "python",
   "nbconvert_exporter": "python",
   "pygments_lexer": "ipython3",
   "version": "3.12.0"
  }
 },
 "nbformat": 4,
 "nbformat_minor": 5
}
