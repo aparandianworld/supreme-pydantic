{
 "cells": [
  {
   "cell_type": "code",
   "execution_count": null,
   "id": "5b83c907",
   "metadata": {},
   "outputs": [
    {
     "name": "stdout",
     "output_type": "stream",
     "text": [
      "{\"name\":\"John Doe\",\"email\":\"john.doe@example.com\",\"query\":\"Hello, I need assistance with retrieving my order invoice please.\"}\n"
     ]
    }
   ],
   "source": [
    "from pydantic import BaseModel, ValidationError, EmailStr\n",
    "import json\n",
    "\n",
    "\n",
    "# Pydantic model\n",
    "class UserInput(BaseModel):\n",
    "    name: str\n",
    "    email: EmailStr\n",
    "    query: str\n",
    "    \n",
    "user_input = UserInput(name=\"John Doe\", email=\"john.doe@example.com\", query=\"Hello, I need assistance with retrieving my order invoice please.\")\n",
    "print(f\"{user_input.model_dump_json()}\")"
   ]
  },
  {
   "cell_type": "code",
   "execution_count": 19,
   "id": "f7a2381c",
   "metadata": {},
   "outputs": [
    {
     "name": "stdout",
     "output_type": "stream",
     "text": [
      "valid user input created.\n",
      "{\n",
      "    \"name\": \"John Doe\",\n",
      "    \"email\": \"john.doe@example.com\",\n",
      "    \"query\": \"Hello, I need assistance with retrieving my order invoice please.\",\n",
      "    \"order_id\": null,\n",
      "    \"purchase_date\": null\n",
      "}\n"
     ]
    },
    {
     "data": {
      "text/plain": [
       "UserInput(name='John Doe', email='john.doe@example.com', query='Hello, I need assistance with retrieving my order invoice please.', order_id=None, purchase_date=None)"
      ]
     },
     "execution_count": 19,
     "metadata": {},
     "output_type": "execute_result"
    }
   ],
   "source": [
    "def validate_user_input(user_input: dict):\n",
    "    try:\n",
    "        validated_input = UserInput.model_validate(user_input)\n",
    "        print(f\"valid user input created.\")\n",
    "        print(f\"{validated_input.model_dump_json(indent = 4)}\")\n",
    "        return validated_input\n",
    "    except ValidationError as e:\n",
    "        print(\"Validation errors:\")\n",
    "        for error in e.errors():\n",
    "            location = error['loc'][0] if error['loc'] else 'unknown'\n",
    "            print(f\"  - {location}: {error['msg']}\")\n",
    "        return None\n",
    "\n",
    "input_data = {\n",
    "    \"name\": \"John Doe\",\n",
    "    \"email\": \"john.doe@example.com\",\n",
    "    \"query\": \"Hello, I need assistance with retrieving my order invoice please.\"\n",
    "}\n",
    "\n",
    "# validate customer data\n",
    "validate_user_input(input_data)\n"
   ]
  },
  {
   "cell_type": "code",
   "execution_count": 31,
   "id": "ab55eb57",
   "metadata": {},
   "outputs": [
    {
     "name": "stdout",
     "output_type": "stream",
     "text": [
      "valid user input created.\n",
      "{\n",
      "    \"name\": \"John Doe\",\n",
      "    \"email\": \"john.doe@example.com\",\n",
      "    \"query\": \"Hello, I need assistance with retrieving my order invoice please.\",\n",
      "    \"order_id\": null,\n",
      "    \"purchase_date\": null\n",
      "}\n"
     ]
    },
    {
     "data": {
      "text/plain": [
       "UserInput(name='John Doe', email='john.doe@example.com', query='Hello, I need assistance with retrieving my order invoice please.', order_id=None, purchase_date=None)"
      ]
     },
     "execution_count": 31,
     "metadata": {},
     "output_type": "execute_result"
    }
   ],
   "source": [
    "from pydantic import BaseModel, EmailStr, ValidationError, Field\n",
    "from typing import Optional\n",
    "from datetime import date\n",
    "import json\n",
    "\n",
    "\n",
    "class UserInput(BaseModel):\n",
    "    name: str\n",
    "    email: EmailStr\n",
    "    query: str\n",
    "    order_id: Optional[int] = Field(\n",
    "        None, \n",
    "        description=\"5 digit (non zero) order ID if available\",\n",
    "        lower_bound = 10000,\n",
    "        upper_bound = 99999,\n",
    "    )\n",
    "    purchase_date: Optional[date] = None\n",
    "    \n",
    "input_data = {\n",
    "    \"name\": \"John Doe\",\n",
    "    \"email\": \"john.doe@example.com\",\n",
    "    \"query\": \"Hello, I need assistance with retrieving my order invoice please.\"\n",
    "}\n",
    "\n",
    "# validate customer data\n",
    "validate_user_input(input_data)"
   ]
  },
  {
   "cell_type": "code",
   "execution_count": 32,
   "id": "19410d4f",
   "metadata": {},
   "outputs": [
    {
     "name": "stdout",
     "output_type": "stream",
     "text": [
      "valid user input created.\n",
      "{\n",
      "    \"name\": \"John Doe\",\n",
      "    \"email\": \"john.doe@example.com\",\n",
      "    \"query\": \"Hello, I need assistance with retrieving my order invoice please.\",\n",
      "    \"order_id\": 123456,\n",
      "    \"purchase_date\": \"2025-08-01\"\n",
      "}\n"
     ]
    },
    {
     "data": {
      "text/plain": [
       "{'name': 'John Doe',\n",
       " 'email': 'john.doe@example.com',\n",
       " 'query': 'Hello, I need assistance with retrieving my order invoice please.',\n",
       " 'order_id': '123456',\n",
       " 'purchase_date': datetime.date(2025, 8, 1)}"
      ]
     },
     "execution_count": 32,
     "metadata": {},
     "output_type": "execute_result"
    }
   ],
   "source": [
    "complete_input_data = {\n",
    "    \"name\": \"John Doe\",\n",
    "    \"email\": \"john.doe@example.com\",\n",
    "    \"query\": \"Hello, I need assistance with retrieving my order invoice please.\",\n",
    "    \"order_id\": \"123456\",\n",
    "    \"purchase_date\": date(2025, 8, 1)\n",
    "}\n",
    "\n",
    "validate_user_input(complete_input_data)\n",
    "\n",
    "complete_input_data\n"
   ]
  },
  {
   "cell_type": "code",
   "execution_count": null,
   "id": "6f8383c0",
   "metadata": {},
   "outputs": [
    {
     "name": "stdout",
     "output_type": "stream",
     "text": [
      "Parsed JSON:  {'name': 'John Doe', 'email': 'john.doe@example.com', 'query': 'Hello, I need assistance with retrieving my order invoice please.', 'order_id': '543456', 'purchase_date': '2025-09-01'}\n",
      "valid user input created.\n",
      "{\n",
      "    \"name\": \"John Doe\",\n",
      "    \"email\": \"john.doe@example.com\",\n",
      "    \"query\": \"Hello, I need assistance with retrieving my order invoice please.\",\n",
      "    \"order_id\": 543456,\n",
      "    \"purchase_date\": \"2025-09-01\"\n",
      "}\n"
     ]
    },
    {
     "data": {
      "text/plain": [
       "UserInput(name='John Doe', email='john.doe@example.com', query='Hello, I need assistance with retrieving my order invoice please.', order_id=543456, purchase_date=datetime.date(2025, 9, 1))"
      ]
     },
     "execution_count": 34,
     "metadata": {},
     "output_type": "execute_result"
    }
   ],
   "source": [
    "json_data = \"\"\"\n",
    "{\n",
    "    \"name\": \"John Doe\",\n",
    "    \"email\": \"john.doe@example.com\",\n",
    "    \"query\": \"Hello, I need assistance with retrieving my order invoice please.\",\n",
    "    \"order_id\": \"543456\",\n",
    "    \"purchase_date\": \"2025-09-01\"\n",
    "}\n",
    "\"\"\"\n",
    "\n",
    "input_data = json.loads(json_data)\n",
    "print(\"Parsed JSON: \", input_data)\n",
    "validate_user_input(input_data)"
   ]
  }
 ],
 "metadata": {
  "kernelspec": {
   "display_name": "supreme-pydantic",
   "language": "python",
   "name": "python3"
  },
  "language_info": {
   "codemirror_mode": {
    "name": "ipython",
    "version": 3
   },
   "file_extension": ".py",
   "mimetype": "text/x-python",
   "name": "python",
   "nbconvert_exporter": "python",
   "pygments_lexer": "ipython3",
   "version": "3.12.0"
  }
 },
 "nbformat": 4,
 "nbformat_minor": 5
}
