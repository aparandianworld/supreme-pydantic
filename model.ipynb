{
 "cells": [
  {
   "cell_type": "code",
   "execution_count": 4,
   "id": "5b83c907",
   "metadata": {},
   "outputs": [
    {
     "name": "stdout",
     "output_type": "stream",
     "text": [
      "{\"name\":\"John Doe\",\"email\":\"john.doe@example.com\",\"query\":\"Hello, I need assistance with retrieving my order invoice please.\"}\n"
     ]
    }
   ],
   "source": [
    "from pydantic import BaseModel, ValidationError, EmailStr\n",
    "import json\n",
    "\n",
    "\n",
    "# Pydantic model\n",
    "class UserInput(BaseModel):\n",
    "    name: str\n",
    "    email: EmailStr\n",
    "    query: str\n",
    "    \n",
    "user_input = UserInput(name=\"John Doe\", email=\"john.doe@example.com\", query=\"Hello, I need assistance with retrieving my order invoice please.\")\n",
    "print(f\"{user_input.model_dump_json()}\")"
   ]
  },
  {
   "cell_type": "code",
   "execution_count": null,
   "id": "f7a2381c",
   "metadata": {},
   "outputs": [],
   "source": []
  }
 ],
 "metadata": {
  "kernelspec": {
   "display_name": "supreme-pydantic",
   "language": "python",
   "name": "python3"
  },
  "language_info": {
   "codemirror_mode": {
    "name": "ipython",
    "version": 3
   },
   "file_extension": ".py",
   "mimetype": "text/x-python",
   "name": "python",
   "nbconvert_exporter": "python",
   "pygments_lexer": "ipython3",
   "version": "3.12.0"
  }
 },
 "nbformat": 4,
 "nbformat_minor": 5
}
