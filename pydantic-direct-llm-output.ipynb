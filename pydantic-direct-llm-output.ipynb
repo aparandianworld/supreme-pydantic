{
 "cells": [
  {
   "cell_type": "code",
   "execution_count": 7,
   "id": "a77b32a8",
   "metadata": {},
   "outputs": [
    {
     "name": "stdout",
     "output_type": "stream",
     "text": [
      "OpenAI client successfully initialized.\n"
     ]
    }
   ],
   "source": [
    "from pydantic import BaseModel, Field, EmailStr\n",
    "from typing import List, Literal, Optional\n",
    "import openai\n",
    "from dotenv import load_dotenv\n",
    "from datetime import date\n",
    "import instructor\n",
    "import os\n",
    "import sys\n",
    "\n",
    "try: \n",
    "    dotenv_loaded = load_dotenv()\n",
    "    if not dotenv_loaded:\n",
    "        print(\"Warning: no .env file found or loaded.\")\n",
    "except Exception as e:\n",
    "    print(f\"Error loading .env file: {e}\")\n",
    "    sys.exit(1)\n",
    "    \n",
    "api_key = os.getenv(\"OPENAI_API_KEY\")\n",
    "if not api_key:\n",
    "    print(\"Error: OPENAI_API_KEY not found in environment variables\")\n",
    "    print(\"Please create a .env file with: OPENAI_API_KEY=your_api_key_here\")\n",
    "    sys.exit(1)\n",
    "    \n",
    "try: \n",
    "    client = openai.OpenAI(api_key=api_key)\n",
    "    print(\"OpenAI client successfully initialized.\")\n",
    "except Exception as e:\n",
    "    print(f\"Error initializing OpenAI client: {e}\")\n",
    "    sys.exit(1)\n"
   ]
  },
  {
   "cell_type": "code",
   "execution_count": 8,
   "id": "1546c397",
   "metadata": {},
   "outputs": [],
   "source": [
    "# Pydantic data models \n",
    "\n",
    "class UserInput(BaseModel):\n",
    "    name: str\n",
    "    email: str\n",
    "    query: str\n",
    "    order_id: Optional[int] = Field(\n",
    "        None, \n",
    "        description=\"5 digit (not zero) Order ID if available\",\n",
    "        lower_bound = 10000,\n",
    "        upper_bound = 99999,\n",
    "    )\n",
    "    purchase_date: Optional[date] = None\n",
    "    \n",
    "\n",
    "class UserQuery(UserInput):\n",
    "    priority: str = Field(\n",
    "        ..., description=\"Priority level: low, medium, high\",\n",
    "    )\n",
    "    category: Literal[\n",
    "        'refund_request',\n",
    "        'information_request',\n",
    "        'other'\n",
    "    ]\n",
    "    is_compliant: bool = Field(\n",
    "        ..., description=\"Whether the query is compliant or not\",\n",
    "    )\n",
    "    tags: List[str] = Field(\n",
    "        description=\"List of tags associated with the query\",\n",
    "    )"
   ]
  },
  {
   "cell_type": "code",
   "execution_count": 12,
   "id": "156ad6ba",
   "metadata": {},
   "outputs": [
    {
     "name": "stdout",
     "output_type": "stream",
     "text": [
      "name='John Doe' email='john.doe@example.com' query='I need assistance retrieving my order invoice' order_id=12345 purchase_date=datetime.date(2025, 9, 3)\n"
     ]
    }
   ],
   "source": [
    "user_input_json = \"\"\"\n",
    "{\n",
    "    \"name\": \"John Doe\",\n",
    "    \"email\": \"john.doe@example.com\",\n",
    "    \"query\": \"I need assistance retrieving my order invoice\",\n",
    "    \"order_id\": 12345,\n",
    "    \"purchase_date\": \"2025-09-03\"\n",
    "}\n",
    "\"\"\"\n",
    "\n",
    "validated_user_input = UserInput.model_validate_json(user_input_json)\n",
    "print(validated_user_input)"
   ]
  }
 ],
 "metadata": {
  "kernelspec": {
   "display_name": "supreme-pydantic",
   "language": "python",
   "name": "python3"
  },
  "language_info": {
   "codemirror_mode": {
    "name": "ipython",
    "version": 3
   },
   "file_extension": ".py",
   "mimetype": "text/x-python",
   "name": "python",
   "nbconvert_exporter": "python",
   "pygments_lexer": "ipython3",
   "version": "3.12.11"
  }
 },
 "nbformat": 4,
 "nbformat_minor": 5
}
