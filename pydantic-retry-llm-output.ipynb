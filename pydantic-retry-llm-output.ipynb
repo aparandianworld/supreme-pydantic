{
 "cells": [
  {
   "cell_type": "code",
   "execution_count": 5,
   "id": "2271f362",
   "metadata": {},
   "outputs": [
    {
     "name": "stdout",
     "output_type": "stream",
     "text": [
      "OpenAI client successfully initialized.\n"
     ]
    }
   ],
   "source": [
    "from pydantic import BaseModel, ValidationError, Field, EmailStr\n",
    "from typing import List, Literal, Optional\n",
    "from datetime import date\n",
    "from dotenv import load_dotenv\n",
    "\n",
    "import openai\n",
    "import json\n",
    "import os\n",
    "import sys\n",
    "\n",
    "try: \n",
    "    dotenv_loaded = load_dotenv()\n",
    "    if not dotenv_loaded:\n",
    "        print(\"Warning: no .env file found or loaded.\")\n",
    "except Exception as e:\n",
    "    print(f\"Error loading .env file: {e}\")\n",
    "    sys.exit(1)\n",
    "    \n",
    "api_key = os.getenv(\"OPENAI_API_KEY\")\n",
    "if not api_key:\n",
    "    print(\"Error: OPENAI_API_KEY not found in environment variables\")\n",
    "    print(\"Please create a .env file with: OPENAI_API_KEY=your_api_key_here\")\n",
    "    sys.exit(1)\n",
    "    \n",
    "try: \n",
    "    client = openai.OpenAI(api_key=api_key)\n",
    "    print(\"OpenAI client successfully initialized.\")\n",
    "except Exception as e:\n",
    "    print(f\"Error initializing OpenAI client: {e}\")\n",
    "    sys.exit(1)"
   ]
  }
 ],
 "metadata": {
  "kernelspec": {
   "display_name": "supreme-pydantic",
   "language": "python",
   "name": "python3"
  },
  "language_info": {
   "codemirror_mode": {
    "name": "ipython",
    "version": 3
   },
   "file_extension": ".py",
   "mimetype": "text/x-python",
   "name": "python",
   "nbconvert_exporter": "python",
   "pygments_lexer": "ipython3",
   "version": "3.12.11"
  }
 },
 "nbformat": 4,
 "nbformat_minor": 5
}
